{
 "cells": [
  {
   "cell_type": "markdown",
   "source": [
    "# NBA player stats"
   ],
   "metadata": {}
  },
  {
   "cell_type": "markdown",
   "source": [
    "## Scrape roster information for each NBA team"
   ],
   "metadata": {}
  },
  {
   "cell_type": "code",
   "execution_count": 1,
   "source": [
    "import re\r\n",
    "import requests\r\n",
    "from bs4 import BeautifulSoup\r\n",
    "import pandas as pd"
   ],
   "outputs": [],
   "metadata": {}
  },
  {
   "cell_type": "markdown",
   "source": [
    "Now, let’s create a function that will extract all the team names from http://www.espn.com/nba/teams and construct roster URLs for each of the teams:"
   ],
   "metadata": {}
  },
  {
   "cell_type": "code",
   "execution_count": 2,
   "source": [
    "# This method finds the urls for each of the rosters in the NBA using regexes.\r\n",
    "def build_team_urls(URL):\r\n",
    "    # Open the espn teams webpage and extract the names of each roster available.\r\n",
    "    page = requests.get(URL)\r\n",
    "    soup = BeautifulSoup(page.content, \"html.parser\")\r\n",
    "    table = soup.find(\"table\", class_=\"Table--fixed-left\")\r\n",
    "    team_links = table.find_all(\"a\", class_=\"AnchorLink\")\r\n",
    "    # Using the names of the rosters, create the urls of each roster\r\n",
    "    roster_urls = []\r\n",
    "    for link in team_links:\r\n",
    "        elements = link.get(\"href\").split(\"/\")\r\n",
    "        team_name = elements[-1]\r\n",
    "        roster_urls.append((team_name, 'https://www.espn.com/nba/team/roster/_/name/' + elements[-2] + '/' + elements[-1]))\r\n",
    "    return dict(roster_urls)"
   ],
   "outputs": [],
   "metadata": {}
  },
  {
   "cell_type": "code",
   "execution_count": 3,
   "source": [
    "URL = 'https://www.espn.com/nba/stats/team/_/season/2021/seasontype/3'\r\n",
    "rosters = build_team_urls(URL)\r\n",
    "rosters"
   ],
   "outputs": [
    {
     "output_type": "execute_result",
     "data": {
      "text/plain": [
       "{'portland-trail-blazers': 'https://www.espn.com/nba/team/roster/_/name/por/portland-trail-blazers',\n",
       " 'utah-jazz': 'https://www.espn.com/nba/team/roster/_/name/utah/utah-jazz',\n",
       " 'philadelphia-76ers': 'https://www.espn.com/nba/team/roster/_/name/phi/philadelphia-76ers',\n",
       " 'memphis-grizzlies': 'https://www.espn.com/nba/team/roster/_/name/mem/memphis-grizzlies',\n",
       " 'denver-nuggets': 'https://www.espn.com/nba/team/roster/_/name/den/denver-nuggets',\n",
       " 'brooklyn-nets': 'https://www.espn.com/nba/team/roster/_/name/bkn/brooklyn-nets',\n",
       " 'boston-celtics': 'https://www.espn.com/nba/team/roster/_/name/bos/boston-celtics',\n",
       " 'la-clippers': 'https://www.espn.com/nba/team/roster/_/name/lac/la-clippers',\n",
       " 'milwaukee-bucks': 'https://www.espn.com/nba/team/roster/_/name/mil/milwaukee-bucks',\n",
       " 'washington-wizards': 'https://www.espn.com/nba/team/roster/_/name/wsh/washington-wizards',\n",
       " 'phoenix-suns': 'https://www.espn.com/nba/team/roster/_/name/phx/phoenix-suns',\n",
       " 'atlanta-hawks': 'https://www.espn.com/nba/team/roster/_/name/atl/atlanta-hawks',\n",
       " 'dallas-mavericks': 'https://www.espn.com/nba/team/roster/_/name/dal/dallas-mavericks',\n",
       " 'miami-heat': 'https://www.espn.com/nba/team/roster/_/name/mia/miami-heat',\n",
       " 'los-angeles-lakers': 'https://www.espn.com/nba/team/roster/_/name/lal/los-angeles-lakers',\n",
       " 'new-york-knicks': 'https://www.espn.com/nba/team/roster/_/name/ny/new-york-knicks'}"
      ]
     },
     "metadata": {},
     "execution_count": 3
    }
   ],
   "metadata": {}
  },
  {
   "cell_type": "markdown",
   "source": [
    "The function `build_team_urls()` returns a dictionary that matches team names with their corresponding roster URL. Given this information, we can systematically loop through all of the rosters and use regular expressions to extract player information for each team."
   ],
   "metadata": {}
  },
  {
   "cell_type": "code",
   "execution_count": 4,
   "source": [
    "def get_player_info(roster_url):\r\n",
    "    page = requests.get(roster_url)\r\n",
    "    soup = BeautifulSoup(page.content, \"html.parser\")\r\n",
    "    table = soup.find(\"tbody\")\r\n",
    "    player_elements = table.find_all(\"td\", class_=\"Table__TD\")\r\n",
    "\r\n",
    "    salary = []\r\n",
    "    for element in player_elements[7::8]:\r\n",
    "        salary.append(element.find(\"div\").text.strip())\r\n",
    "\r\n",
    "    play_info = dict()\r\n",
    "    for idx, element in enumerate(player_elements[1::8]):\r\n",
    "        link = element.find(\"a\")\r\n",
    "        player_id = re.findall(r'\\d+', link.get(\"href\"))[0]\r\n",
    "        play_info[link.text.strip()] = {\"id\": player_id, \"name\": link.text.strip(), \"salary\": salary[idx]}\r\n",
    "\r\n",
    "    return play_info"
   ],
   "outputs": [],
   "metadata": {}
  },
  {
   "cell_type": "markdown",
   "source": [
    "As you can see, `player_info` is a list of tuples, in which each player name is paired with a set of information (height, weight, age, etc.) that is organized in `json` format. We can use the `json` package in Python to convert the information into a Python dictionary:"
   ],
   "metadata": {}
  },
  {
   "cell_type": "markdown",
   "source": [
    "We can now loop through each team in `rosters` and run `get_player_info()`, storing the output in a dictionary called `all_players`:"
   ],
   "metadata": {}
  },
  {
   "cell_type": "code",
   "execution_count": 5,
   "source": [
    "all_players = dict()\r\n",
    "for team in rosters.keys():\r\n",
    "    print(\"Gathering player info for team: \" + team)\r\n",
    "    all_players[team] = get_player_info(rosters[team])"
   ],
   "outputs": [
    {
     "output_type": "stream",
     "name": "stdout",
     "text": [
      "Gathering player info for team: portland-trail-blazers\n",
      "Gathering player info for team: utah-jazz\n",
      "Gathering player info for team: philadelphia-76ers\n",
      "Gathering player info for team: memphis-grizzlies\n",
      "Gathering player info for team: denver-nuggets\n",
      "Gathering player info for team: brooklyn-nets\n",
      "Gathering player info for team: boston-celtics\n",
      "Gathering player info for team: la-clippers\n",
      "Gathering player info for team: milwaukee-bucks\n",
      "Gathering player info for team: washington-wizards\n",
      "Gathering player info for team: phoenix-suns\n",
      "Gathering player info for team: atlanta-hawks\n",
      "Gathering player info for team: dallas-mavericks\n",
      "Gathering player info for team: miami-heat\n",
      "Gathering player info for team: los-angeles-lakers\n",
      "Gathering player info for team: new-york-knicks\n"
     ]
    }
   ],
   "metadata": {}
  },
  {
   "cell_type": "markdown",
   "source": [
    "After running this code, the `all_players` dictionary should be a dictionary of dictionaries of dictionaries. This sounds complicated, but let's walk through what it looks like. The first level of keys should correspond to teams:"
   ],
   "metadata": {}
  },
  {
   "cell_type": "code",
   "execution_count": 6,
   "source": [
    "all_players.keys()"
   ],
   "outputs": [
    {
     "output_type": "execute_result",
     "data": {
      "text/plain": [
       "dict_keys(['portland-trail-blazers', 'utah-jazz', 'philadelphia-76ers', 'memphis-grizzlies', 'denver-nuggets', 'brooklyn-nets', 'boston-celtics', 'la-clippers', 'milwaukee-bucks', 'washington-wizards', 'phoenix-suns', 'atlanta-hawks', 'dallas-mavericks', 'miami-heat', 'los-angeles-lakers', 'new-york-knicks'])"
      ]
     },
     "metadata": {},
     "execution_count": 6
    }
   ],
   "metadata": {}
  },
  {
   "cell_type": "markdown",
   "source": [
    "Within a team, the keys should correspond to player names. Let's zoom in on the LA Lakers:"
   ],
   "metadata": {}
  },
  {
   "cell_type": "code",
   "execution_count": 7,
   "source": [
    "all_players[\"los-angeles-lakers\"].keys()"
   ],
   "outputs": [
    {
     "output_type": "execute_result",
     "data": {
      "text/plain": [
       "dict_keys(['Kostas Antetokounmpo', 'Devontae Cacok', 'Kentavious Caldwell-Pope', 'Alex Caruso', 'Anthony Davis', 'Andre Drummond', 'Jared Dudley', 'Marc Gasol', 'Montrezl Harrell', 'Talen Horton-Tucker', 'LeBron James', 'Kyle Kuzma', 'Wesley Matthews', 'Alfonzo McKinnie', 'Ben McLemore', 'Markieff Morris', 'Dennis Schroder'])"
      ]
     },
     "metadata": {},
     "execution_count": 7
    }
   ],
   "metadata": {}
  },
  {
   "cell_type": "markdown",
   "source": [
    "Now we can choose which player to look at. Let's choose LeBron James as an example:"
   ],
   "metadata": {}
  },
  {
   "cell_type": "code",
   "execution_count": 8,
   "source": [
    "all_players[\"los-angeles-lakers\"][\"Kostas Antetokounmpo\"]"
   ],
   "outputs": [
    {
     "output_type": "execute_result",
     "data": {
      "text/plain": [
       "{'id': '4066490', 'name': 'Kostas Antetokounmpo', 'salary': '--'}"
      ]
     },
     "metadata": {},
     "execution_count": 8
    }
   ],
   "metadata": {}
  },
  {
   "cell_type": "markdown",
   "source": [
    "In order to make data analysis easier, we can re-format this dictionary into a `pandas` DataFrame. The function `pd.DataFrame.from_dict()` can turn a dictionary of dictionaries into a `pandas` DataFrame, as demonstrated below:"
   ],
   "metadata": {}
  },
  {
   "cell_type": "markdown",
   "source": [
    "In the DataFrame above, each of the parameters such as 'age', 'salary', etc. are organized in columns and each player is a row. This makes display of the data much easier to read and understand. Furthermore, it also places null values when pieces of data are missing--for example, Chasson Randle's salary information is missing from the website, so 'NaN' is automatically placed in the DataFrame.\r\n",
    "\r\n",
    "DataFrames allow us to quickly make calculations, sort players based on their stats, and compare stats between teams. To make a DataFrame containing data from all the teams, we will loop through each team in `all_players`, construct DataFrames, label them with a `team` column, and aggregate them into a single DataFrame called `all_players_df`."
   ],
   "metadata": {}
  },
  {
   "cell_type": "code",
   "execution_count": 9,
   "source": [
    "all_players_df = pd.DataFrame()\r\n",
    "# loop through each team, create a pandas DataFrame, and append\r\n",
    "for team in all_players.keys():\r\n",
    "    team_df = pd.DataFrame.from_dict(all_players[team], orient = \"index\")\r\n",
    "    team_df['team'] = team\r\n",
    "    all_players_df = all_players_df.append(team_df)"
   ],
   "outputs": [],
   "metadata": {}
  },
  {
   "cell_type": "code",
   "execution_count": 10,
   "source": [
    "all_players_df.head(20)"
   ],
   "outputs": [
    {
     "output_type": "execute_result",
     "data": {
      "text/plain": [
       "                              id                     name       salary  \\\n",
       "Carmelo Anthony             1975          Carmelo Anthony   $1,620,564   \n",
       "Keljin Blevins           3152335           Keljin Blevins           --   \n",
       "Zach Collins             4066650             Zach Collins   $5,406,255   \n",
       "Robert Covington         2490620         Robert Covington  $12,138,345   \n",
       "CJ Elleby                4397166                CJ Elleby     $898,310   \n",
       "Harry Giles III          4065649          Harry Giles III   $1,620,564   \n",
       "Rondae Hollis-Jefferson  3064291  Rondae Hollis-Jefferson     $210,895   \n",
       "Derrick Jones Jr.        3936099        Derrick Jones Jr.   $9,258,000   \n",
       "Enes Kanter                 6447              Enes Kanter   $5,005,350   \n",
       "T.J. Leaf                4066425                T.J. Leaf   $4,326,825   \n",
       "Damian Lillard              6606           Damian Lillard  $31,626,953   \n",
       "Nassir Little            4395652            Nassir Little   $2,210,640   \n",
       "CJ McCollum              2490149              CJ McCollum  $29,354,152   \n",
       "Jusuf Nurkic             3102530             Jusuf Nurkic  $12,888,889   \n",
       "Norman Powell            2595516            Norman Powell  $10,865,952   \n",
       "Anfernee Simons          4351851          Anfernee Simons   $2,252,040   \n",
       "Udoka Azubuike           4066299           Udoka Azubuike   $1,977,000   \n",
       "Bojan Bogdanovic            3593         Bojan Bogdanovic  $17,850,000   \n",
       "Jarrell Brantley         3912292         Jarrell Brantley           --   \n",
       "Jordan Clarkson          2528426          Jordan Clarkson  $11,500,000   \n",
       "\n",
       "                                           team  \n",
       "Carmelo Anthony          portland-trail-blazers  \n",
       "Keljin Blevins           portland-trail-blazers  \n",
       "Zach Collins             portland-trail-blazers  \n",
       "Robert Covington         portland-trail-blazers  \n",
       "CJ Elleby                portland-trail-blazers  \n",
       "Harry Giles III          portland-trail-blazers  \n",
       "Rondae Hollis-Jefferson  portland-trail-blazers  \n",
       "Derrick Jones Jr.        portland-trail-blazers  \n",
       "Enes Kanter              portland-trail-blazers  \n",
       "T.J. Leaf                portland-trail-blazers  \n",
       "Damian Lillard           portland-trail-blazers  \n",
       "Nassir Little            portland-trail-blazers  \n",
       "CJ McCollum              portland-trail-blazers  \n",
       "Jusuf Nurkic             portland-trail-blazers  \n",
       "Norman Powell            portland-trail-blazers  \n",
       "Anfernee Simons          portland-trail-blazers  \n",
       "Udoka Azubuike                        utah-jazz  \n",
       "Bojan Bogdanovic                      utah-jazz  \n",
       "Jarrell Brantley                      utah-jazz  \n",
       "Jordan Clarkson                       utah-jazz  "
      ],
      "text/html": [
       "<div>\n",
       "<style scoped>\n",
       "    .dataframe tbody tr th:only-of-type {\n",
       "        vertical-align: middle;\n",
       "    }\n",
       "\n",
       "    .dataframe tbody tr th {\n",
       "        vertical-align: top;\n",
       "    }\n",
       "\n",
       "    .dataframe thead th {\n",
       "        text-align: right;\n",
       "    }\n",
       "</style>\n",
       "<table border=\"1\" class=\"dataframe\">\n",
       "  <thead>\n",
       "    <tr style=\"text-align: right;\">\n",
       "      <th></th>\n",
       "      <th>id</th>\n",
       "      <th>name</th>\n",
       "      <th>salary</th>\n",
       "      <th>team</th>\n",
       "    </tr>\n",
       "  </thead>\n",
       "  <tbody>\n",
       "    <tr>\n",
       "      <th>Carmelo Anthony</th>\n",
       "      <td>1975</td>\n",
       "      <td>Carmelo Anthony</td>\n",
       "      <td>$1,620,564</td>\n",
       "      <td>portland-trail-blazers</td>\n",
       "    </tr>\n",
       "    <tr>\n",
       "      <th>Keljin Blevins</th>\n",
       "      <td>3152335</td>\n",
       "      <td>Keljin Blevins</td>\n",
       "      <td>--</td>\n",
       "      <td>portland-trail-blazers</td>\n",
       "    </tr>\n",
       "    <tr>\n",
       "      <th>Zach Collins</th>\n",
       "      <td>4066650</td>\n",
       "      <td>Zach Collins</td>\n",
       "      <td>$5,406,255</td>\n",
       "      <td>portland-trail-blazers</td>\n",
       "    </tr>\n",
       "    <tr>\n",
       "      <th>Robert Covington</th>\n",
       "      <td>2490620</td>\n",
       "      <td>Robert Covington</td>\n",
       "      <td>$12,138,345</td>\n",
       "      <td>portland-trail-blazers</td>\n",
       "    </tr>\n",
       "    <tr>\n",
       "      <th>CJ Elleby</th>\n",
       "      <td>4397166</td>\n",
       "      <td>CJ Elleby</td>\n",
       "      <td>$898,310</td>\n",
       "      <td>portland-trail-blazers</td>\n",
       "    </tr>\n",
       "    <tr>\n",
       "      <th>Harry Giles III</th>\n",
       "      <td>4065649</td>\n",
       "      <td>Harry Giles III</td>\n",
       "      <td>$1,620,564</td>\n",
       "      <td>portland-trail-blazers</td>\n",
       "    </tr>\n",
       "    <tr>\n",
       "      <th>Rondae Hollis-Jefferson</th>\n",
       "      <td>3064291</td>\n",
       "      <td>Rondae Hollis-Jefferson</td>\n",
       "      <td>$210,895</td>\n",
       "      <td>portland-trail-blazers</td>\n",
       "    </tr>\n",
       "    <tr>\n",
       "      <th>Derrick Jones Jr.</th>\n",
       "      <td>3936099</td>\n",
       "      <td>Derrick Jones Jr.</td>\n",
       "      <td>$9,258,000</td>\n",
       "      <td>portland-trail-blazers</td>\n",
       "    </tr>\n",
       "    <tr>\n",
       "      <th>Enes Kanter</th>\n",
       "      <td>6447</td>\n",
       "      <td>Enes Kanter</td>\n",
       "      <td>$5,005,350</td>\n",
       "      <td>portland-trail-blazers</td>\n",
       "    </tr>\n",
       "    <tr>\n",
       "      <th>T.J. Leaf</th>\n",
       "      <td>4066425</td>\n",
       "      <td>T.J. Leaf</td>\n",
       "      <td>$4,326,825</td>\n",
       "      <td>portland-trail-blazers</td>\n",
       "    </tr>\n",
       "    <tr>\n",
       "      <th>Damian Lillard</th>\n",
       "      <td>6606</td>\n",
       "      <td>Damian Lillard</td>\n",
       "      <td>$31,626,953</td>\n",
       "      <td>portland-trail-blazers</td>\n",
       "    </tr>\n",
       "    <tr>\n",
       "      <th>Nassir Little</th>\n",
       "      <td>4395652</td>\n",
       "      <td>Nassir Little</td>\n",
       "      <td>$2,210,640</td>\n",
       "      <td>portland-trail-blazers</td>\n",
       "    </tr>\n",
       "    <tr>\n",
       "      <th>CJ McCollum</th>\n",
       "      <td>2490149</td>\n",
       "      <td>CJ McCollum</td>\n",
       "      <td>$29,354,152</td>\n",
       "      <td>portland-trail-blazers</td>\n",
       "    </tr>\n",
       "    <tr>\n",
       "      <th>Jusuf Nurkic</th>\n",
       "      <td>3102530</td>\n",
       "      <td>Jusuf Nurkic</td>\n",
       "      <td>$12,888,889</td>\n",
       "      <td>portland-trail-blazers</td>\n",
       "    </tr>\n",
       "    <tr>\n",
       "      <th>Norman Powell</th>\n",
       "      <td>2595516</td>\n",
       "      <td>Norman Powell</td>\n",
       "      <td>$10,865,952</td>\n",
       "      <td>portland-trail-blazers</td>\n",
       "    </tr>\n",
       "    <tr>\n",
       "      <th>Anfernee Simons</th>\n",
       "      <td>4351851</td>\n",
       "      <td>Anfernee Simons</td>\n",
       "      <td>$2,252,040</td>\n",
       "      <td>portland-trail-blazers</td>\n",
       "    </tr>\n",
       "    <tr>\n",
       "      <th>Udoka Azubuike</th>\n",
       "      <td>4066299</td>\n",
       "      <td>Udoka Azubuike</td>\n",
       "      <td>$1,977,000</td>\n",
       "      <td>utah-jazz</td>\n",
       "    </tr>\n",
       "    <tr>\n",
       "      <th>Bojan Bogdanovic</th>\n",
       "      <td>3593</td>\n",
       "      <td>Bojan Bogdanovic</td>\n",
       "      <td>$17,850,000</td>\n",
       "      <td>utah-jazz</td>\n",
       "    </tr>\n",
       "    <tr>\n",
       "      <th>Jarrell Brantley</th>\n",
       "      <td>3912292</td>\n",
       "      <td>Jarrell Brantley</td>\n",
       "      <td>--</td>\n",
       "      <td>utah-jazz</td>\n",
       "    </tr>\n",
       "    <tr>\n",
       "      <th>Jordan Clarkson</th>\n",
       "      <td>2528426</td>\n",
       "      <td>Jordan Clarkson</td>\n",
       "      <td>$11,500,000</td>\n",
       "      <td>utah-jazz</td>\n",
       "    </tr>\n",
       "  </tbody>\n",
       "</table>\n",
       "</div>"
      ]
     },
     "metadata": {},
     "execution_count": 10
    }
   ],
   "metadata": {}
  },
  {
   "cell_type": "markdown",
   "source": [
    "Now, `all_players_df` is a DataFrame with all the players in the NBA categorized by team. It contains player information such as age, salary, height, weight, etc. I'll export this data to a csv file, in case you readers out there want to read it in and play around with it yourself."
   ],
   "metadata": {}
  },
  {
   "cell_type": "markdown",
   "source": [
    "## Scrape player stats for career averages"
   ],
   "metadata": {}
  },
  {
   "cell_type": "markdown",
   "source": [
    "We also want to scrape data coresponding to the performance of each player, in terms of points per game, field goal percentage, rebounds per game, etc. Our goal is to append this information to `all_players_df` so that we can compare player performance with traits such as height, salary, etc. We can find performance stats at each player's personal page on ESPN:"
   ],
   "metadata": {}
  },
  {
   "cell_type": "markdown",
   "source": [
    "In order to extract the information above for each player in our DataFrame, we can construct URLs for player stats pages using the `id` column. Fortunately, the URL is standardized and very easy to construct. For example, using the `id` value of 3975 for Stephen Curry, the URL to open would be: https://www.espn.com/nba/player/stats/_/id/3975. Below is an example of extracting his career stats using regexes:"
   ],
   "metadata": {}
  },
  {
   "cell_type": "code",
   "execution_count": 11,
   "source": [
    "url = \"https://www.espn.com/nba/player/stats/_/id/1975/type/nba/seasontype/3\"\r\n",
    "\r\n",
    "def get_player_stats(url):\r\n",
    "    page = requests.get(url)\r\n",
    "    soup = BeautifulSoup(page.content, \"html.parser\")\r\n",
    "    table = soup.find_all(\"tbody\")[1].find_all(\"tr\")[-1]\r\n",
    "    stats = [element.find(\"span\").text.strip() for element in table]\r\n",
    "    return list(map(float, [stats[2], stats[11], stats[12], stats[-1]]))\r\n"
   ],
   "outputs": [],
   "metadata": {}
  },
  {
   "cell_type": "markdown",
   "source": [
    "We observe that some of the stats are complex and contain non-numerical symbols such as \"-\". In the example above, the range \"3.7-4.0\" is for the column \"FT\", which stands for \"Free Throws Made-Attempted Per Game\". We should split this up into two categories, \"Free Throws Made (FTM)\" and \"Free Throws Attempted (FTA)\", and do the same for field goals and 3 pointers. To do so, we can split the string based on \"-\" and then un-nest the list. We also need to convert the strings to floating point values."
   ],
   "metadata": {}
  },
  {
   "cell_type": "markdown",
   "source": [
    "Now we can loop through each player in `all_players_df`, open their stats webpage, extract their career stats, and store the stats in a separate data frame called `career_stats_df` using the code below:"
   ],
   "metadata": {}
  },
  {
   "cell_type": "code",
   "execution_count": 12,
   "source": [
    "career_stats_df = pd.DataFrame(columns = [\"MIN\", \"REB\", \"AST\", \"PTS\"])\r\n",
    "for idx, row in all_players_df.iterrows():\r\n",
    "    url = \"https://www.espn.com/nba/player/stats/_/id/\" + str(row['id']) + \"/type/nba/seasontype/3\"\r\n",
    "    try:\r\n",
    "        career_info = get_player_stats(url)\r\n",
    "        career_stats_df = career_stats_df.append(pd.Series(career_info, index = career_stats_df.columns, name=idx))\r\n",
    "    except:\r\n",
    "        # if no career stats were returned, the player was a rookie with no games played\r\n",
    "        print(idx + \" has no info, \" + url)"
   ],
   "outputs": [
    {
     "output_type": "stream",
     "name": "stdout",
     "text": [
      "Elijah Hughes has no info, https://www.espn.com/nba/player/stats/_/id/4066446/type/nba/seasontype/3\n",
      "Sean McDermott has no info, https://www.espn.com/nba/player/stats/_/id/3908903/type/nba/seasontype/3\n",
      "Jontay Porter has no info, https://www.espn.com/nba/player/stats/_/id/4278103/type/nba/seasontype/3\n",
      "Killian Tillie has no info, https://www.espn.com/nba/player/stats/_/id/4066651/type/nba/seasontype/3\n",
      "Moses Brown has no info, https://www.espn.com/nba/player/stats/_/id/4397126/type/nba/seasontype/3\n",
      "Deni Avdija has no info, https://www.espn.com/nba/player/stats/_/id/4683021/type/nba/seasontype/3\n",
      "Thomas Bryant has no info, https://www.espn.com/nba/player/stats/_/id/3934723/type/nba/seasontype/3\n",
      "Caleb Homesley has no info, https://www.espn.com/nba/player/stats/_/id/3947736/type/nba/seasontype/3\n",
      "Brandon Goodwin has no info, https://www.espn.com/nba/player/stats/_/id/3057198/type/nba/seasontype/3\n",
      "Tyler Bey has no info, https://www.espn.com/nba/player/stats/_/id/4278502/type/nba/seasontype/3\n",
      "Nate Hinton has no info, https://www.espn.com/nba/player/stats/_/id/4396629/type/nba/seasontype/3\n",
      "Tyrell Terry has no info, https://www.espn.com/nba/player/stats/_/id/4431747/type/nba/seasontype/3\n",
      "Omer Yurtseven has no info, https://www.espn.com/nba/player/stats/_/id/3074213/type/nba/seasontype/3\n",
      "Kostas Antetokounmpo has no info, https://www.espn.com/nba/player/stats/_/id/4066490/type/nba/seasontype/3\n",
      "Devontae Cacok has no info, https://www.espn.com/nba/player/stats/_/id/3946974/type/nba/seasontype/3\n",
      "Jared Harper has no info, https://www.espn.com/nba/player/stats/_/id/4066248/type/nba/seasontype/3\n",
      "Mitchell Robinson has no info, https://www.espn.com/nba/player/stats/_/id/4351852/type/nba/seasontype/3\n",
      "Luca Vildoza has no info, https://www.espn.com/nba/player/stats/_/id/4231914/type/nba/seasontype/3\n"
     ]
    }
   ],
   "metadata": {}
  },
  {
   "cell_type": "markdown",
   "source": [
    "Some player webpages did not have career stats, which I found corresponded to rookies which had no games played. This threw an error in the loop, so I used a try/except clause to bypass the error and continue stripping content for the remaining players. Their stats are currently stored in the object `career_stats_df`:"
   ],
   "metadata": {}
  },
  {
   "cell_type": "code",
   "execution_count": 13,
   "source": [
    "career_stats_df.head(5)"
   ],
   "outputs": [
    {
     "output_type": "execute_result",
     "data": {
      "text/plain": [
       "                   MIN  REB  AST   PTS\n",
       "Carmelo Anthony   37.3  6.7  2.5  23.1\n",
       "Keljin Blevins     2.0  0.0  0.0   1.0\n",
       "Zach Collins      17.3  3.5  1.0   6.9\n",
       "Robert Covington  31.7  5.7  1.7   9.7\n",
       "CJ Elleby          4.0  1.5  0.5   0.0"
      ],
      "text/html": [
       "<div>\n",
       "<style scoped>\n",
       "    .dataframe tbody tr th:only-of-type {\n",
       "        vertical-align: middle;\n",
       "    }\n",
       "\n",
       "    .dataframe tbody tr th {\n",
       "        vertical-align: top;\n",
       "    }\n",
       "\n",
       "    .dataframe thead th {\n",
       "        text-align: right;\n",
       "    }\n",
       "</style>\n",
       "<table border=\"1\" class=\"dataframe\">\n",
       "  <thead>\n",
       "    <tr style=\"text-align: right;\">\n",
       "      <th></th>\n",
       "      <th>MIN</th>\n",
       "      <th>REB</th>\n",
       "      <th>AST</th>\n",
       "      <th>PTS</th>\n",
       "    </tr>\n",
       "  </thead>\n",
       "  <tbody>\n",
       "    <tr>\n",
       "      <th>Carmelo Anthony</th>\n",
       "      <td>37.3</td>\n",
       "      <td>6.7</td>\n",
       "      <td>2.5</td>\n",
       "      <td>23.1</td>\n",
       "    </tr>\n",
       "    <tr>\n",
       "      <th>Keljin Blevins</th>\n",
       "      <td>2.0</td>\n",
       "      <td>0.0</td>\n",
       "      <td>0.0</td>\n",
       "      <td>1.0</td>\n",
       "    </tr>\n",
       "    <tr>\n",
       "      <th>Zach Collins</th>\n",
       "      <td>17.3</td>\n",
       "      <td>3.5</td>\n",
       "      <td>1.0</td>\n",
       "      <td>6.9</td>\n",
       "    </tr>\n",
       "    <tr>\n",
       "      <th>Robert Covington</th>\n",
       "      <td>31.7</td>\n",
       "      <td>5.7</td>\n",
       "      <td>1.7</td>\n",
       "      <td>9.7</td>\n",
       "    </tr>\n",
       "    <tr>\n",
       "      <th>CJ Elleby</th>\n",
       "      <td>4.0</td>\n",
       "      <td>1.5</td>\n",
       "      <td>0.5</td>\n",
       "      <td>0.0</td>\n",
       "    </tr>\n",
       "  </tbody>\n",
       "</table>\n",
       "</div>"
      ]
     },
     "metadata": {},
     "execution_count": 13
    }
   ],
   "metadata": {}
  },
  {
   "cell_type": "markdown",
   "source": [
    "The stats for each player are now organized in a neat DataFrame. Here is a legend for what each of the abbreviations mean:\r\n",
    "\r\n",
    "* MIN:Minutes Per Game\r\n",
    "* REB:Rebounds Per Game\r\n",
    "* AST:Assists Per Game\r\n",
    "* PTS:Points Per Game"
   ],
   "metadata": {}
  },
  {
   "cell_type": "markdown",
   "source": [
    "## Joining and cleaning the data"
   ],
   "metadata": {}
  },
  {
   "cell_type": "markdown",
   "source": [
    "We will now join `career_stats_df` with `all_players_df`, which will merge the content from both data frames based on rows that have the same index (player name). Players in `all_players_df` that are not included in `career_stats_df` will have `NaN` values for the joined columns."
   ],
   "metadata": {}
  },
  {
   "cell_type": "code",
   "execution_count": 14,
   "source": [
    "all_stats_df = all_players_df.join(career_stats_df)"
   ],
   "outputs": [],
   "metadata": {}
  },
  {
   "cell_type": "code",
   "execution_count": 15,
   "source": [
    "all_stats_df.head(5)"
   ],
   "outputs": [
    {
     "output_type": "execute_result",
     "data": {
      "text/plain": [
       "                       id              name       salary  \\\n",
       "Carmelo Anthony      1975   Carmelo Anthony   $1,620,564   \n",
       "Keljin Blevins    3152335    Keljin Blevins           --   \n",
       "Zach Collins      4066650      Zach Collins   $5,406,255   \n",
       "Robert Covington  2490620  Robert Covington  $12,138,345   \n",
       "CJ Elleby         4397166         CJ Elleby     $898,310   \n",
       "\n",
       "                                    team   MIN  REB  AST   PTS  \n",
       "Carmelo Anthony   portland-trail-blazers  37.3  6.7  2.5  23.1  \n",
       "Keljin Blevins    portland-trail-blazers   2.0  0.0  0.0   1.0  \n",
       "Zach Collins      portland-trail-blazers  17.3  3.5  1.0   6.9  \n",
       "Robert Covington  portland-trail-blazers  31.7  5.7  1.7   9.7  \n",
       "CJ Elleby         portland-trail-blazers   4.0  1.5  0.5   0.0  "
      ],
      "text/html": [
       "<div>\n",
       "<style scoped>\n",
       "    .dataframe tbody tr th:only-of-type {\n",
       "        vertical-align: middle;\n",
       "    }\n",
       "\n",
       "    .dataframe tbody tr th {\n",
       "        vertical-align: top;\n",
       "    }\n",
       "\n",
       "    .dataframe thead th {\n",
       "        text-align: right;\n",
       "    }\n",
       "</style>\n",
       "<table border=\"1\" class=\"dataframe\">\n",
       "  <thead>\n",
       "    <tr style=\"text-align: right;\">\n",
       "      <th></th>\n",
       "      <th>id</th>\n",
       "      <th>name</th>\n",
       "      <th>salary</th>\n",
       "      <th>team</th>\n",
       "      <th>MIN</th>\n",
       "      <th>REB</th>\n",
       "      <th>AST</th>\n",
       "      <th>PTS</th>\n",
       "    </tr>\n",
       "  </thead>\n",
       "  <tbody>\n",
       "    <tr>\n",
       "      <th>Carmelo Anthony</th>\n",
       "      <td>1975</td>\n",
       "      <td>Carmelo Anthony</td>\n",
       "      <td>$1,620,564</td>\n",
       "      <td>portland-trail-blazers</td>\n",
       "      <td>37.3</td>\n",
       "      <td>6.7</td>\n",
       "      <td>2.5</td>\n",
       "      <td>23.1</td>\n",
       "    </tr>\n",
       "    <tr>\n",
       "      <th>Keljin Blevins</th>\n",
       "      <td>3152335</td>\n",
       "      <td>Keljin Blevins</td>\n",
       "      <td>--</td>\n",
       "      <td>portland-trail-blazers</td>\n",
       "      <td>2.0</td>\n",
       "      <td>0.0</td>\n",
       "      <td>0.0</td>\n",
       "      <td>1.0</td>\n",
       "    </tr>\n",
       "    <tr>\n",
       "      <th>Zach Collins</th>\n",
       "      <td>4066650</td>\n",
       "      <td>Zach Collins</td>\n",
       "      <td>$5,406,255</td>\n",
       "      <td>portland-trail-blazers</td>\n",
       "      <td>17.3</td>\n",
       "      <td>3.5</td>\n",
       "      <td>1.0</td>\n",
       "      <td>6.9</td>\n",
       "    </tr>\n",
       "    <tr>\n",
       "      <th>Robert Covington</th>\n",
       "      <td>2490620</td>\n",
       "      <td>Robert Covington</td>\n",
       "      <td>$12,138,345</td>\n",
       "      <td>portland-trail-blazers</td>\n",
       "      <td>31.7</td>\n",
       "      <td>5.7</td>\n",
       "      <td>1.7</td>\n",
       "      <td>9.7</td>\n",
       "    </tr>\n",
       "    <tr>\n",
       "      <th>CJ Elleby</th>\n",
       "      <td>4397166</td>\n",
       "      <td>CJ Elleby</td>\n",
       "      <td>$898,310</td>\n",
       "      <td>portland-trail-blazers</td>\n",
       "      <td>4.0</td>\n",
       "      <td>1.5</td>\n",
       "      <td>0.5</td>\n",
       "      <td>0.0</td>\n",
       "    </tr>\n",
       "  </tbody>\n",
       "</table>\n",
       "</div>"
      ]
     },
     "metadata": {},
     "execution_count": 15
    }
   ],
   "metadata": {}
  },
  {
   "cell_type": "markdown",
   "source": [
    "The performance stats have been added as columns on the right side of the DataFrame.\n",
    "\n",
    "We notice that some of the columns which should contain numerical data such as salary, height, and weight are instead considered strings. This is beacuse they contain non-numerical characters (such as '$' and ',' for salary). To be able to compute statistics on these columns, we need to convert them to numeric values.\n",
    "\n",
    "We can convert salaries to numeric by removing all non-numerical characters and converting to `int` using list comprehension:"
   ],
   "metadata": {}
  },
  {
   "cell_type": "code",
   "execution_count": 16,
   "source": [
    "all_stats_df['salary'] = all_stats_df['salary'].replace(\"--\", pd.NA)\r\n"
   ],
   "outputs": [],
   "metadata": {}
  },
  {
   "cell_type": "code",
   "execution_count": 17,
   "source": [
    "all_stats_df['salary']=[float(re.sub(r'[^\\d.]+', '', s)) if isinstance(s, str) else s for s in all_stats_df['salary'].values]"
   ],
   "outputs": [],
   "metadata": {}
  },
  {
   "cell_type": "code",
   "execution_count": 18,
   "source": [
    "# all_stats_df.to_json(\"NBA_player_info.json\", orient=\"records\")"
   ],
   "outputs": [],
   "metadata": {}
  },
  {
   "cell_type": "markdown",
   "source": [
    "## Calculating statistics"
   ],
   "metadata": {}
  },
  {
   "cell_type": "code",
   "execution_count": 19,
   "source": [
    "all_stats_df.sort_values('salary', ascending=False).head(10)"
   ],
   "outputs": [
    {
     "output_type": "execute_result",
     "data": {
      "text/plain": [
       "                     id               name      salary                team  \\\n",
       "Russell Westbrook  3468  Russell Westbrook  41358814.0  washington-wizards   \n",
       "Chris Paul         2779         Chris Paul  41358814.0        phoenix-suns   \n",
       "James Harden       3992       James Harden  41254920.0       brooklyn-nets   \n",
       "Kevin Durant       3202       Kevin Durant  40108950.0       brooklyn-nets   \n",
       "LeBron James       1966       LeBron James  39219565.0  los-angeles-lakers   \n",
       "Paul George        4251        Paul George  35450412.0         la-clippers   \n",
       "Mike Conley        3195        Mike Conley  34502130.0           utah-jazz   \n",
       "Kawhi Leonard      6450      Kawhi Leonard  34379100.0         la-clippers   \n",
       "Jimmy Butler       6430       Jimmy Butler  34379100.0          miami-heat   \n",
       "Tobias Harris      6440      Tobias Harris  34358850.0  philadelphia-76ers   \n",
       "\n",
       "                    MIN  REB  AST   PTS  \n",
       "Russell Westbrook  37.5  7.2  7.9  24.6  \n",
       "Chris Paul         36.8  5.0  8.3  20.7  \n",
       "James Harden       35.4  5.5  6.0  23.3  \n",
       "Kevin Durant       40.3  7.8  4.0  29.5  \n",
       "LeBron James       41.5  9.0  7.2  28.7  \n",
       "Paul George        39.1  7.5  4.1  21.3  \n",
       "Mike Conley        36.3  3.6  6.7  16.7  \n",
       "Kawhi Leonard      35.5  7.9  2.8  21.2  \n",
       "Jimmy Butler       37.6  5.8  4.3  18.5  \n",
       "Tobias Harris      37.1  9.0  3.7  17.8  "
      ],
      "text/html": [
       "<div>\n",
       "<style scoped>\n",
       "    .dataframe tbody tr th:only-of-type {\n",
       "        vertical-align: middle;\n",
       "    }\n",
       "\n",
       "    .dataframe tbody tr th {\n",
       "        vertical-align: top;\n",
       "    }\n",
       "\n",
       "    .dataframe thead th {\n",
       "        text-align: right;\n",
       "    }\n",
       "</style>\n",
       "<table border=\"1\" class=\"dataframe\">\n",
       "  <thead>\n",
       "    <tr style=\"text-align: right;\">\n",
       "      <th></th>\n",
       "      <th>id</th>\n",
       "      <th>name</th>\n",
       "      <th>salary</th>\n",
       "      <th>team</th>\n",
       "      <th>MIN</th>\n",
       "      <th>REB</th>\n",
       "      <th>AST</th>\n",
       "      <th>PTS</th>\n",
       "    </tr>\n",
       "  </thead>\n",
       "  <tbody>\n",
       "    <tr>\n",
       "      <th>Russell Westbrook</th>\n",
       "      <td>3468</td>\n",
       "      <td>Russell Westbrook</td>\n",
       "      <td>41358814.0</td>\n",
       "      <td>washington-wizards</td>\n",
       "      <td>37.5</td>\n",
       "      <td>7.2</td>\n",
       "      <td>7.9</td>\n",
       "      <td>24.6</td>\n",
       "    </tr>\n",
       "    <tr>\n",
       "      <th>Chris Paul</th>\n",
       "      <td>2779</td>\n",
       "      <td>Chris Paul</td>\n",
       "      <td>41358814.0</td>\n",
       "      <td>phoenix-suns</td>\n",
       "      <td>36.8</td>\n",
       "      <td>5.0</td>\n",
       "      <td>8.3</td>\n",
       "      <td>20.7</td>\n",
       "    </tr>\n",
       "    <tr>\n",
       "      <th>James Harden</th>\n",
       "      <td>3992</td>\n",
       "      <td>James Harden</td>\n",
       "      <td>41254920.0</td>\n",
       "      <td>brooklyn-nets</td>\n",
       "      <td>35.4</td>\n",
       "      <td>5.5</td>\n",
       "      <td>6.0</td>\n",
       "      <td>23.3</td>\n",
       "    </tr>\n",
       "    <tr>\n",
       "      <th>Kevin Durant</th>\n",
       "      <td>3202</td>\n",
       "      <td>Kevin Durant</td>\n",
       "      <td>40108950.0</td>\n",
       "      <td>brooklyn-nets</td>\n",
       "      <td>40.3</td>\n",
       "      <td>7.8</td>\n",
       "      <td>4.0</td>\n",
       "      <td>29.5</td>\n",
       "    </tr>\n",
       "    <tr>\n",
       "      <th>LeBron James</th>\n",
       "      <td>1966</td>\n",
       "      <td>LeBron James</td>\n",
       "      <td>39219565.0</td>\n",
       "      <td>los-angeles-lakers</td>\n",
       "      <td>41.5</td>\n",
       "      <td>9.0</td>\n",
       "      <td>7.2</td>\n",
       "      <td>28.7</td>\n",
       "    </tr>\n",
       "    <tr>\n",
       "      <th>Paul George</th>\n",
       "      <td>4251</td>\n",
       "      <td>Paul George</td>\n",
       "      <td>35450412.0</td>\n",
       "      <td>la-clippers</td>\n",
       "      <td>39.1</td>\n",
       "      <td>7.5</td>\n",
       "      <td>4.1</td>\n",
       "      <td>21.3</td>\n",
       "    </tr>\n",
       "    <tr>\n",
       "      <th>Mike Conley</th>\n",
       "      <td>3195</td>\n",
       "      <td>Mike Conley</td>\n",
       "      <td>34502130.0</td>\n",
       "      <td>utah-jazz</td>\n",
       "      <td>36.3</td>\n",
       "      <td>3.6</td>\n",
       "      <td>6.7</td>\n",
       "      <td>16.7</td>\n",
       "    </tr>\n",
       "    <tr>\n",
       "      <th>Kawhi Leonard</th>\n",
       "      <td>6450</td>\n",
       "      <td>Kawhi Leonard</td>\n",
       "      <td>34379100.0</td>\n",
       "      <td>la-clippers</td>\n",
       "      <td>35.5</td>\n",
       "      <td>7.9</td>\n",
       "      <td>2.8</td>\n",
       "      <td>21.2</td>\n",
       "    </tr>\n",
       "    <tr>\n",
       "      <th>Jimmy Butler</th>\n",
       "      <td>6430</td>\n",
       "      <td>Jimmy Butler</td>\n",
       "      <td>34379100.0</td>\n",
       "      <td>miami-heat</td>\n",
       "      <td>37.6</td>\n",
       "      <td>5.8</td>\n",
       "      <td>4.3</td>\n",
       "      <td>18.5</td>\n",
       "    </tr>\n",
       "    <tr>\n",
       "      <th>Tobias Harris</th>\n",
       "      <td>6440</td>\n",
       "      <td>Tobias Harris</td>\n",
       "      <td>34358850.0</td>\n",
       "      <td>philadelphia-76ers</td>\n",
       "      <td>37.1</td>\n",
       "      <td>9.0</td>\n",
       "      <td>3.7</td>\n",
       "      <td>17.8</td>\n",
       "    </tr>\n",
       "  </tbody>\n",
       "</table>\n",
       "</div>"
      ]
     },
     "metadata": {},
     "execution_count": 19
    }
   ],
   "metadata": {}
  },
  {
   "cell_type": "code",
   "execution_count": 20,
   "source": [
    "cleaned_df = all_stats_df.loc[~all_stats_df[\"salary\"].isnull(), :]"
   ],
   "outputs": [],
   "metadata": {}
  },
  {
   "cell_type": "code",
   "execution_count": 21,
   "source": [
    "cleaned_df[\"salary\"] = cleaned_df[\"salary\"].astype(int)"
   ],
   "outputs": [
    {
     "output_type": "stream",
     "name": "stderr",
     "text": [
      "e:\\Onedrive\\Documents\\Kaggle\\NBA\\venv\\lib\\site-packages\\ipykernel_launcher.py:1: SettingWithCopyWarning: \n",
      "A value is trying to be set on a copy of a slice from a DataFrame.\n",
      "Try using .loc[row_indexer,col_indexer] = value instead\n",
      "\n",
      "See the caveats in the documentation: https://pandas.pydata.org/pandas-docs/stable/user_guide/indexing.html#returning-a-view-versus-a-copy\n",
      "  \"\"\"Entry point for launching an IPython kernel.\n"
     ]
    }
   ],
   "metadata": {}
  },
  {
   "cell_type": "code",
   "execution_count": 22,
   "source": [
    "# calculate means and remove irrelevant columns for id #\r\n",
    "mean_df = cleaned_df.groupby('team').mean()"
   ],
   "outputs": [],
   "metadata": {}
  },
  {
   "cell_type": "code",
   "execution_count": 23,
   "source": [
    "mean_df.sort_values('salary', ascending=False).head(5)"
   ],
   "outputs": [
    {
     "output_type": "execute_result",
     "data": {
      "text/plain": [
       "                          salary        MIN       REB       AST        PTS\n",
       "team                                                                      \n",
       "brooklyn-nets       1.075938e+07  23.213333  4.086667  1.980000  11.213333\n",
       "la-clippers         9.084385e+06  22.760000  4.200000  2.033333   9.573333\n",
       "utah-jazz           9.010809e+06  21.242857  3.871429  1.735714   9.000000\n",
       "los-angeles-lakers  8.759466e+06  23.826667  4.440000  1.846667  11.093333\n",
       "philadelphia-76ers  8.695312e+06  19.629412  3.852941  1.541176   8.370588"
      ],
      "text/html": [
       "<div>\n",
       "<style scoped>\n",
       "    .dataframe tbody tr th:only-of-type {\n",
       "        vertical-align: middle;\n",
       "    }\n",
       "\n",
       "    .dataframe tbody tr th {\n",
       "        vertical-align: top;\n",
       "    }\n",
       "\n",
       "    .dataframe thead th {\n",
       "        text-align: right;\n",
       "    }\n",
       "</style>\n",
       "<table border=\"1\" class=\"dataframe\">\n",
       "  <thead>\n",
       "    <tr style=\"text-align: right;\">\n",
       "      <th></th>\n",
       "      <th>salary</th>\n",
       "      <th>MIN</th>\n",
       "      <th>REB</th>\n",
       "      <th>AST</th>\n",
       "      <th>PTS</th>\n",
       "    </tr>\n",
       "    <tr>\n",
       "      <th>team</th>\n",
       "      <th></th>\n",
       "      <th></th>\n",
       "      <th></th>\n",
       "      <th></th>\n",
       "      <th></th>\n",
       "    </tr>\n",
       "  </thead>\n",
       "  <tbody>\n",
       "    <tr>\n",
       "      <th>brooklyn-nets</th>\n",
       "      <td>1.075938e+07</td>\n",
       "      <td>23.213333</td>\n",
       "      <td>4.086667</td>\n",
       "      <td>1.980000</td>\n",
       "      <td>11.213333</td>\n",
       "    </tr>\n",
       "    <tr>\n",
       "      <th>la-clippers</th>\n",
       "      <td>9.084385e+06</td>\n",
       "      <td>22.760000</td>\n",
       "      <td>4.200000</td>\n",
       "      <td>2.033333</td>\n",
       "      <td>9.573333</td>\n",
       "    </tr>\n",
       "    <tr>\n",
       "      <th>utah-jazz</th>\n",
       "      <td>9.010809e+06</td>\n",
       "      <td>21.242857</td>\n",
       "      <td>3.871429</td>\n",
       "      <td>1.735714</td>\n",
       "      <td>9.000000</td>\n",
       "    </tr>\n",
       "    <tr>\n",
       "      <th>los-angeles-lakers</th>\n",
       "      <td>8.759466e+06</td>\n",
       "      <td>23.826667</td>\n",
       "      <td>4.440000</td>\n",
       "      <td>1.846667</td>\n",
       "      <td>11.093333</td>\n",
       "    </tr>\n",
       "    <tr>\n",
       "      <th>philadelphia-76ers</th>\n",
       "      <td>8.695312e+06</td>\n",
       "      <td>19.629412</td>\n",
       "      <td>3.852941</td>\n",
       "      <td>1.541176</td>\n",
       "      <td>8.370588</td>\n",
       "    </tr>\n",
       "  </tbody>\n",
       "</table>\n",
       "</div>"
      ]
     },
     "metadata": {},
     "execution_count": 23
    }
   ],
   "metadata": {}
  },
  {
   "cell_type": "markdown",
   "source": [
    "Looks like the highest average salary is paid by the brooklyn-nets. Similarly, we can find the top 10 highest paid players by sorting `all_stats_df` on salary:"
   ],
   "metadata": {}
  },
  {
   "cell_type": "code",
   "execution_count": 24,
   "source": [
    "cleaned_df.sort_values('salary', ascending=False)[['salary','team']].head(10)"
   ],
   "outputs": [
    {
     "output_type": "execute_result",
     "data": {
      "text/plain": [
       "                     salary                team\n",
       "Russell Westbrook  41358814  washington-wizards\n",
       "Chris Paul         41358814        phoenix-suns\n",
       "James Harden       41254920       brooklyn-nets\n",
       "Kevin Durant       40108950       brooklyn-nets\n",
       "LeBron James       39219565  los-angeles-lakers\n",
       "Paul George        35450412         la-clippers\n",
       "Mike Conley        34502130           utah-jazz\n",
       "Kawhi Leonard      34379100         la-clippers\n",
       "Jimmy Butler       34379100          miami-heat\n",
       "Tobias Harris      34358850  philadelphia-76ers"
      ],
      "text/html": [
       "<div>\n",
       "<style scoped>\n",
       "    .dataframe tbody tr th:only-of-type {\n",
       "        vertical-align: middle;\n",
       "    }\n",
       "\n",
       "    .dataframe tbody tr th {\n",
       "        vertical-align: top;\n",
       "    }\n",
       "\n",
       "    .dataframe thead th {\n",
       "        text-align: right;\n",
       "    }\n",
       "</style>\n",
       "<table border=\"1\" class=\"dataframe\">\n",
       "  <thead>\n",
       "    <tr style=\"text-align: right;\">\n",
       "      <th></th>\n",
       "      <th>salary</th>\n",
       "      <th>team</th>\n",
       "    </tr>\n",
       "  </thead>\n",
       "  <tbody>\n",
       "    <tr>\n",
       "      <th>Russell Westbrook</th>\n",
       "      <td>41358814</td>\n",
       "      <td>washington-wizards</td>\n",
       "    </tr>\n",
       "    <tr>\n",
       "      <th>Chris Paul</th>\n",
       "      <td>41358814</td>\n",
       "      <td>phoenix-suns</td>\n",
       "    </tr>\n",
       "    <tr>\n",
       "      <th>James Harden</th>\n",
       "      <td>41254920</td>\n",
       "      <td>brooklyn-nets</td>\n",
       "    </tr>\n",
       "    <tr>\n",
       "      <th>Kevin Durant</th>\n",
       "      <td>40108950</td>\n",
       "      <td>brooklyn-nets</td>\n",
       "    </tr>\n",
       "    <tr>\n",
       "      <th>LeBron James</th>\n",
       "      <td>39219565</td>\n",
       "      <td>los-angeles-lakers</td>\n",
       "    </tr>\n",
       "    <tr>\n",
       "      <th>Paul George</th>\n",
       "      <td>35450412</td>\n",
       "      <td>la-clippers</td>\n",
       "    </tr>\n",
       "    <tr>\n",
       "      <th>Mike Conley</th>\n",
       "      <td>34502130</td>\n",
       "      <td>utah-jazz</td>\n",
       "    </tr>\n",
       "    <tr>\n",
       "      <th>Kawhi Leonard</th>\n",
       "      <td>34379100</td>\n",
       "      <td>la-clippers</td>\n",
       "    </tr>\n",
       "    <tr>\n",
       "      <th>Jimmy Butler</th>\n",
       "      <td>34379100</td>\n",
       "      <td>miami-heat</td>\n",
       "    </tr>\n",
       "    <tr>\n",
       "      <th>Tobias Harris</th>\n",
       "      <td>34358850</td>\n",
       "      <td>philadelphia-76ers</td>\n",
       "    </tr>\n",
       "  </tbody>\n",
       "</table>\n",
       "</div>"
      ]
     },
     "metadata": {},
     "execution_count": 24
    }
   ],
   "metadata": {}
  },
  {
   "cell_type": "markdown",
   "source": [
    "Create a metric with the stats available here.\r\n",
    "(PTS + 0.01) * (MIN + 0.01) * (REB + 0.01) * (AST + 0.01)"
   ],
   "metadata": {}
  },
  {
   "cell_type": "code",
   "execution_count": 25,
   "source": [
    "all_stats_df[\"metric\"] = (all_stats_df[\"PTS\"] + 0.01 ) * (all_stats_df[\"MIN\"] + 0.01) * (all_stats_df[\"REB\"] + 0.01) * (all_stats_df[\"AST\"] + 0.01)"
   ],
   "outputs": [],
   "metadata": {}
  },
  {
   "cell_type": "code",
   "execution_count": 26,
   "source": [
    "\", \".join(list(all_stats_df.sort_values('metric', ascending=False)[['metric','team']].head(10).index))"
   ],
   "outputs": [
    {
     "output_type": "execute_result",
     "data": {
      "text/plain": [
       "'Luka Doncic, LeBron James, Nikola Jokic, Giannis Antetokounmpo, Russell Westbrook, Ja Morant, Kevin Durant, Chris Paul, Julius Randle, Ben Simmons'"
      ]
     },
     "metadata": {},
     "execution_count": 26
    }
   ],
   "metadata": {}
  },
  {
   "cell_type": "code",
   "execution_count": 27,
   "source": [
    "def top_n(df, category, n):\r\n",
    "    return (df.sort_values(category, ascending=False)[[category,'team']].head(n))"
   ],
   "outputs": [],
   "metadata": {}
  },
  {
   "cell_type": "markdown",
   "source": [
    "This way, we can quickly identify the top n players for any given category in a DataFrame. Let's cycle through some stats of interest:"
   ],
   "metadata": {}
  },
  {
   "cell_type": "code",
   "execution_count": 28,
   "source": [
    "top_n(cleaned_df, 'PTS', 5)"
   ],
   "outputs": [
    {
     "output_type": "execute_result",
     "data": {
      "text/plain": [
       "                   PTS               team\n",
       "Luka Doncic       33.5   dallas-mavericks\n",
       "Ja Morant         30.2  memphis-grizzlies\n",
       "Kevin Durant      29.5      brooklyn-nets\n",
       "Trae Young        28.8      atlanta-hawks\n",
       "Donovan Mitchell  28.8          utah-jazz"
      ],
      "text/html": [
       "<div>\n",
       "<style scoped>\n",
       "    .dataframe tbody tr th:only-of-type {\n",
       "        vertical-align: middle;\n",
       "    }\n",
       "\n",
       "    .dataframe tbody tr th {\n",
       "        vertical-align: top;\n",
       "    }\n",
       "\n",
       "    .dataframe thead th {\n",
       "        text-align: right;\n",
       "    }\n",
       "</style>\n",
       "<table border=\"1\" class=\"dataframe\">\n",
       "  <thead>\n",
       "    <tr style=\"text-align: right;\">\n",
       "      <th></th>\n",
       "      <th>PTS</th>\n",
       "      <th>team</th>\n",
       "    </tr>\n",
       "  </thead>\n",
       "  <tbody>\n",
       "    <tr>\n",
       "      <th>Luka Doncic</th>\n",
       "      <td>33.5</td>\n",
       "      <td>dallas-mavericks</td>\n",
       "    </tr>\n",
       "    <tr>\n",
       "      <th>Ja Morant</th>\n",
       "      <td>30.2</td>\n",
       "      <td>memphis-grizzlies</td>\n",
       "    </tr>\n",
       "    <tr>\n",
       "      <th>Kevin Durant</th>\n",
       "      <td>29.5</td>\n",
       "      <td>brooklyn-nets</td>\n",
       "    </tr>\n",
       "    <tr>\n",
       "      <th>Trae Young</th>\n",
       "      <td>28.8</td>\n",
       "      <td>atlanta-hawks</td>\n",
       "    </tr>\n",
       "    <tr>\n",
       "      <th>Donovan Mitchell</th>\n",
       "      <td>28.8</td>\n",
       "      <td>utah-jazz</td>\n",
       "    </tr>\n",
       "  </tbody>\n",
       "</table>\n",
       "</div>"
      ]
     },
     "metadata": {},
     "execution_count": 28
    }
   ],
   "metadata": {}
  },
  {
   "cell_type": "code",
   "execution_count": 29,
   "source": [
    "top_n(cleaned_df, 'REB', 5)"
   ],
   "outputs": [
    {
     "output_type": "execute_result",
     "data": {
      "text/plain": [
       "                        REB                team\n",
       "Dwight Howard          11.8  philadelphia-76ers\n",
       "Deandre Ayton          11.8        phoenix-suns\n",
       "Julius Randle          11.6     new-york-knicks\n",
       "Giannis Antetokounmpo  11.6     milwaukee-bucks\n",
       "Nikola Jokic           11.3      denver-nuggets"
      ],
      "text/html": [
       "<div>\n",
       "<style scoped>\n",
       "    .dataframe tbody tr th:only-of-type {\n",
       "        vertical-align: middle;\n",
       "    }\n",
       "\n",
       "    .dataframe tbody tr th {\n",
       "        vertical-align: top;\n",
       "    }\n",
       "\n",
       "    .dataframe thead th {\n",
       "        text-align: right;\n",
       "    }\n",
       "</style>\n",
       "<table border=\"1\" class=\"dataframe\">\n",
       "  <thead>\n",
       "    <tr style=\"text-align: right;\">\n",
       "      <th></th>\n",
       "      <th>REB</th>\n",
       "      <th>team</th>\n",
       "    </tr>\n",
       "  </thead>\n",
       "  <tbody>\n",
       "    <tr>\n",
       "      <th>Dwight Howard</th>\n",
       "      <td>11.8</td>\n",
       "      <td>philadelphia-76ers</td>\n",
       "    </tr>\n",
       "    <tr>\n",
       "      <th>Deandre Ayton</th>\n",
       "      <td>11.8</td>\n",
       "      <td>phoenix-suns</td>\n",
       "    </tr>\n",
       "    <tr>\n",
       "      <th>Julius Randle</th>\n",
       "      <td>11.6</td>\n",
       "      <td>new-york-knicks</td>\n",
       "    </tr>\n",
       "    <tr>\n",
       "      <th>Giannis Antetokounmpo</th>\n",
       "      <td>11.6</td>\n",
       "      <td>milwaukee-bucks</td>\n",
       "    </tr>\n",
       "    <tr>\n",
       "      <th>Nikola Jokic</th>\n",
       "      <td>11.3</td>\n",
       "      <td>denver-nuggets</td>\n",
       "    </tr>\n",
       "  </tbody>\n",
       "</table>\n",
       "</div>"
      ]
     },
     "metadata": {},
     "execution_count": 29
    }
   ],
   "metadata": {}
  },
  {
   "cell_type": "code",
   "execution_count": 30,
   "source": [
    "corr_matrix = cleaned_df.drop(['id'],1).corr()"
   ],
   "outputs": [
    {
     "output_type": "stream",
     "name": "stderr",
     "text": [
      "e:\\Onedrive\\Documents\\Kaggle\\NBA\\venv\\lib\\site-packages\\ipykernel_launcher.py:1: FutureWarning: In a future version of pandas all arguments of DataFrame.drop except for the argument 'labels' will be keyword-only\n",
      "  \"\"\"Entry point for launching an IPython kernel.\n"
     ]
    }
   ],
   "metadata": {}
  },
  {
   "cell_type": "code",
   "execution_count": 31,
   "source": [
    "import matplotlib.pyplot as plt\r\n",
    "\r\n",
    "f = plt.figure(figsize=(19, 15))\r\n",
    "plt.matshow(corr_matrix, fignum=f.number)\r\n",
    "plt.xticks(range(corr_matrix.shape[1]), corr_matrix.columns, fontsize=14, rotation=45, ha = 'left')\r\n",
    "plt.yticks(range(corr_matrix.shape[1]), corr_matrix.columns, fontsize=14)\r\n",
    "cb = plt.colorbar()\r\n",
    "cb.ax.tick_params(labelsize=14)\r\n",
    "plt.title('Correlation Matrix', fontsize=16);"
   ],
   "outputs": [
    {
     "output_type": "display_data",
     "data": {
      "text/plain": [
       "<Figure size 1368x1080 with 2 Axes>"
      ],
      "image/png": "[encoded data removed]"
     },
     "metadata": {
      "needs_background": "light"
     }
    }
   ],
   "metadata": {}
  },
  {
   "cell_type": "markdown",
   "source": [
    "We can learn a lot about how different statistics are associated with each other from this matrix, and also identify some interesting trends. For example:\r\n",
    "\r\n",
    "* Points per game (PTS) is highly correlated with minitues played in game (MIN).\r\n",
    "* The highest correlates with salary is points per game, which is one of the more important stats when it comes down to performance."
   ],
   "metadata": {}
  },
  {
   "cell_type": "code",
   "execution_count": 32,
   "source": [
    "corr_matrix.sort_values('salary', ascending=False)['salary'].head(10)"
   ],
   "outputs": [
    {
     "output_type": "execute_result",
     "data": {
      "text/plain": [
       "salary    1.000000\n",
       "PTS       0.696451\n",
       "MIN       0.658777\n",
       "AST       0.617753\n",
       "REB       0.526738\n",
       "Name: salary, dtype: float64"
      ]
     },
     "metadata": {},
     "execution_count": 32
    }
   ],
   "metadata": {}
  },
  {
   "cell_type": "code",
   "execution_count": 33,
   "source": [
    "from sklearn.linear_model import LinearRegression\r\n",
    "# remove rows with null values for regression\r\n",
    "reg_df = all_stats_df[['salary', 'PTS']].dropna()"
   ],
   "outputs": [],
   "metadata": {}
  },
  {
   "cell_type": "markdown",
   "source": [
    "Then, we will fit the model with the predictor variable (X) being PTS and the dependent variable (Y) being salary. We will set `fit_intercept=False` since players cannot be paid less than $0.00 or score less than 0 PTS:"
   ],
   "metadata": {}
  },
  {
   "cell_type": "code",
   "execution_count": 34,
   "source": [
    "X = reg_df['PTS'].values.reshape(-1,1)\r\n",
    "Y = reg_df['salary'].values.reshape(-1,1)\r\n",
    "reg = LinearRegression(fit_intercept=False).fit(X,Y)\r\n",
    "y_pred = reg.predict(X)\r\n",
    "plt.figure(figsize=(12, 6))\r\n",
    "plt.scatter(X, Y)\r\n",
    "plt.plot(X, y_pred, color='red')\r\n",
    "plt.xlabel(\"Points per game (Career)\")\r\n",
    "plt.ylabel(\"Salary (2020)\")\r\n",
    "plt.title('Salary vs PTS - simple linear regression', fontsize=16);"
   ],
   "outputs": [
    {
     "output_type": "display_data",
     "data": {
      "text/plain": [
       "<Figure size 864x432 with 1 Axes>"
      ],
      "image/png": "[encoded data removed]"
     },
     "metadata": {
      "needs_background": "light"
     }
    }
   ],
   "metadata": {}
  },
  {
   "cell_type": "markdown",
   "source": [
    "Consistent with the positive correlation we calculated previously, a regression line with a positive slope is fitted to the data. We can extract the slope of the line by getting the coefficient using `.coef_`:"
   ],
   "metadata": {}
  },
  {
   "cell_type": "code",
   "execution_count": 35,
   "source": [
    "print(reg.coef_)"
   ],
   "outputs": [
    {
     "output_type": "stream",
     "name": "stdout",
     "text": [
      "[[947335.99054586]]\n"
     ]
    }
   ],
   "metadata": {}
  },
  {
   "cell_type": "code",
   "execution_count": 42,
   "source": [],
   "outputs": [
    {
     "output_type": "error",
     "ename": "ValueError",
     "evalue": "Input contains NaN, infinity or a value too large for dtype('float64').",
     "traceback": [
      "\u001b[1;31m---------------------------------------------------------------------------\u001b[0m",
      "\u001b[1;31mValueError\u001b[0m                                Traceback (most recent call last)",
      "\u001b[1;32m~\\AppData\\Local\\Temp/ipykernel_8416/257892656.py\u001b[0m in \u001b[0;36m<module>\u001b[1;34m\u001b[0m\n\u001b[0;32m      1\u001b[0m \u001b[1;32mfrom\u001b[0m \u001b[0msklearn\u001b[0m\u001b[1;33m.\u001b[0m\u001b[0mpreprocessing\u001b[0m \u001b[1;32mimport\u001b[0m \u001b[0mNormalizer\u001b[0m\u001b[1;33m\u001b[0m\u001b[1;33m\u001b[0m\u001b[0m\n\u001b[1;32m----> 2\u001b[1;33m \u001b[0mnormalizer\u001b[0m \u001b[1;33m=\u001b[0m \u001b[0mNormalizer\u001b[0m\u001b[1;33m(\u001b[0m\u001b[1;33m)\u001b[0m\u001b[1;33m.\u001b[0m\u001b[0mfit\u001b[0m\u001b[1;33m(\u001b[0m\u001b[0mall_stats_df\u001b[0m\u001b[1;33m.\u001b[0m\u001b[0mloc\u001b[0m\u001b[1;33m[\u001b[0m\u001b[1;33m:\u001b[0m\u001b[1;33m,\u001b[0m \u001b[1;33m[\u001b[0m\u001b[1;34m\"MIN\"\u001b[0m\u001b[1;33m,\u001b[0m \u001b[1;34m\"PTS\"\u001b[0m\u001b[1;33m,\u001b[0m \u001b[1;34m\"REB\"\u001b[0m\u001b[1;33m,\u001b[0m \u001b[1;34m\"AST\"\u001b[0m\u001b[1;33m]\u001b[0m\u001b[1;33m]\u001b[0m\u001b[1;33m)\u001b[0m\u001b[1;33m\u001b[0m\u001b[1;33m\u001b[0m\u001b[0m\n\u001b[0m\u001b[0;32m      3\u001b[0m \u001b[0mnormalizer\u001b[0m\u001b[1;33m.\u001b[0m\u001b[0mtransform\u001b[0m\u001b[1;33m(\u001b[0m\u001b[0mall_stats_df\u001b[0m\u001b[1;33m.\u001b[0m\u001b[0mloc\u001b[0m\u001b[1;33m[\u001b[0m\u001b[1;33m:\u001b[0m\u001b[1;33m,\u001b[0m \u001b[1;33m[\u001b[0m\u001b[1;34m\"MIN\"\u001b[0m\u001b[1;33m,\u001b[0m \u001b[1;34m\"PTS\"\u001b[0m\u001b[1;33m,\u001b[0m \u001b[1;34m\"REB\"\u001b[0m\u001b[1;33m,\u001b[0m \u001b[1;34m\"AST\"\u001b[0m\u001b[1;33m]\u001b[0m\u001b[1;33m]\u001b[0m\u001b[1;33m)\u001b[0m\u001b[1;33m\u001b[0m\u001b[1;33m\u001b[0m\u001b[0m\n",
      "\u001b[1;32me:\\Onedrive\\Documents\\Kaggle\\NBA\\venv\\lib\\site-packages\\sklearn\\preprocessing\\_data.py\u001b[0m in \u001b[0;36mfit\u001b[1;34m(self, X, y)\u001b[0m\n\u001b[0;32m   2024\u001b[0m             \u001b[0mFitted\u001b[0m \u001b[0mtransformer\u001b[0m\u001b[1;33m.\u001b[0m\u001b[1;33m\u001b[0m\u001b[1;33m\u001b[0m\u001b[0m\n\u001b[0;32m   2025\u001b[0m         \"\"\"\n\u001b[1;32m-> 2026\u001b[1;33m         \u001b[0mself\u001b[0m\u001b[1;33m.\u001b[0m\u001b[0m_validate_data\u001b[0m\u001b[1;33m(\u001b[0m\u001b[0mX\u001b[0m\u001b[1;33m,\u001b[0m \u001b[0maccept_sparse\u001b[0m\u001b[1;33m=\u001b[0m\u001b[1;34m'csr'\u001b[0m\u001b[1;33m)\u001b[0m\u001b[1;33m\u001b[0m\u001b[1;33m\u001b[0m\u001b[0m\n\u001b[0m\u001b[0;32m   2027\u001b[0m         \u001b[1;32mreturn\u001b[0m \u001b[0mself\u001b[0m\u001b[1;33m\u001b[0m\u001b[1;33m\u001b[0m\u001b[0m\n\u001b[0;32m   2028\u001b[0m \u001b[1;33m\u001b[0m\u001b[0m\n",
      "\u001b[1;32me:\\Onedrive\\Documents\\Kaggle\\NBA\\venv\\lib\\site-packages\\sklearn\\base.py\u001b[0m in \u001b[0;36m_validate_data\u001b[1;34m(self, X, y, reset, validate_separately, **check_params)\u001b[0m\n\u001b[0;32m    419\u001b[0m             \u001b[0mout\u001b[0m \u001b[1;33m=\u001b[0m \u001b[0mX\u001b[0m\u001b[1;33m\u001b[0m\u001b[1;33m\u001b[0m\u001b[0m\n\u001b[0;32m    420\u001b[0m         \u001b[1;32melif\u001b[0m \u001b[0misinstance\u001b[0m\u001b[1;33m(\u001b[0m\u001b[0my\u001b[0m\u001b[1;33m,\u001b[0m \u001b[0mstr\u001b[0m\u001b[1;33m)\u001b[0m \u001b[1;32mand\u001b[0m \u001b[0my\u001b[0m \u001b[1;33m==\u001b[0m \u001b[1;34m'no_validation'\u001b[0m\u001b[1;33m:\u001b[0m\u001b[1;33m\u001b[0m\u001b[1;33m\u001b[0m\u001b[0m\n\u001b[1;32m--> 421\u001b[1;33m             \u001b[0mX\u001b[0m \u001b[1;33m=\u001b[0m \u001b[0mcheck_array\u001b[0m\u001b[1;33m(\u001b[0m\u001b[0mX\u001b[0m\u001b[1;33m,\u001b[0m \u001b[1;33m**\u001b[0m\u001b[0mcheck_params\u001b[0m\u001b[1;33m)\u001b[0m\u001b[1;33m\u001b[0m\u001b[1;33m\u001b[0m\u001b[0m\n\u001b[0m\u001b[0;32m    422\u001b[0m             \u001b[0mout\u001b[0m \u001b[1;33m=\u001b[0m \u001b[0mX\u001b[0m\u001b[1;33m\u001b[0m\u001b[1;33m\u001b[0m\u001b[0m\n\u001b[0;32m    423\u001b[0m         \u001b[1;32melse\u001b[0m\u001b[1;33m:\u001b[0m\u001b[1;33m\u001b[0m\u001b[1;33m\u001b[0m\u001b[0m\n",
      "\u001b[1;32me:\\Onedrive\\Documents\\Kaggle\\NBA\\venv\\lib\\site-packages\\sklearn\\utils\\validation.py\u001b[0m in \u001b[0;36minner_f\u001b[1;34m(*args, **kwargs)\u001b[0m\n\u001b[0;32m     61\u001b[0m             \u001b[0mextra_args\u001b[0m \u001b[1;33m=\u001b[0m \u001b[0mlen\u001b[0m\u001b[1;33m(\u001b[0m\u001b[0margs\u001b[0m\u001b[1;33m)\u001b[0m \u001b[1;33m-\u001b[0m \u001b[0mlen\u001b[0m\u001b[1;33m(\u001b[0m\u001b[0mall_args\u001b[0m\u001b[1;33m)\u001b[0m\u001b[1;33m\u001b[0m\u001b[1;33m\u001b[0m\u001b[0m\n\u001b[0;32m     62\u001b[0m             \u001b[1;32mif\u001b[0m \u001b[0mextra_args\u001b[0m \u001b[1;33m<=\u001b[0m \u001b[1;36m0\u001b[0m\u001b[1;33m:\u001b[0m\u001b[1;33m\u001b[0m\u001b[1;33m\u001b[0m\u001b[0m\n\u001b[1;32m---> 63\u001b[1;33m                 \u001b[1;32mreturn\u001b[0m \u001b[0mf\u001b[0m\u001b[1;33m(\u001b[0m\u001b[1;33m*\u001b[0m\u001b[0margs\u001b[0m\u001b[1;33m,\u001b[0m \u001b[1;33m**\u001b[0m\u001b[0mkwargs\u001b[0m\u001b[1;33m)\u001b[0m\u001b[1;33m\u001b[0m\u001b[1;33m\u001b[0m\u001b[0m\n\u001b[0m\u001b[0;32m     64\u001b[0m \u001b[1;33m\u001b[0m\u001b[0m\n\u001b[0;32m     65\u001b[0m             \u001b[1;31m# extra_args > 0\u001b[0m\u001b[1;33m\u001b[0m\u001b[1;33m\u001b[0m\u001b[1;33m\u001b[0m\u001b[0m\n",
      "\u001b[1;32me:\\Onedrive\\Documents\\Kaggle\\NBA\\venv\\lib\\site-packages\\sklearn\\utils\\validation.py\u001b[0m in \u001b[0;36mcheck_array\u001b[1;34m(array, accept_sparse, accept_large_sparse, dtype, order, copy, force_all_finite, ensure_2d, allow_nd, ensure_min_samples, ensure_min_features, estimator)\u001b[0m\n\u001b[0;32m    719\u001b[0m         \u001b[1;32mif\u001b[0m \u001b[0mforce_all_finite\u001b[0m\u001b[1;33m:\u001b[0m\u001b[1;33m\u001b[0m\u001b[1;33m\u001b[0m\u001b[0m\n\u001b[0;32m    720\u001b[0m             _assert_all_finite(array,\n\u001b[1;32m--> 721\u001b[1;33m                                allow_nan=force_all_finite == 'allow-nan')\n\u001b[0m\u001b[0;32m    722\u001b[0m \u001b[1;33m\u001b[0m\u001b[0m\n\u001b[0;32m    723\u001b[0m     \u001b[1;32mif\u001b[0m \u001b[0mensure_min_samples\u001b[0m \u001b[1;33m>\u001b[0m \u001b[1;36m0\u001b[0m\u001b[1;33m:\u001b[0m\u001b[1;33m\u001b[0m\u001b[1;33m\u001b[0m\u001b[0m\n",
      "\u001b[1;32me:\\Onedrive\\Documents\\Kaggle\\NBA\\venv\\lib\\site-packages\\sklearn\\utils\\validation.py\u001b[0m in \u001b[0;36m_assert_all_finite\u001b[1;34m(X, allow_nan, msg_dtype)\u001b[0m\n\u001b[0;32m    104\u001b[0m                     \u001b[0mmsg_err\u001b[0m\u001b[1;33m.\u001b[0m\u001b[0mformat\u001b[0m\u001b[1;33m\u001b[0m\u001b[1;33m\u001b[0m\u001b[0m\n\u001b[0;32m    105\u001b[0m                     (type_err,\n\u001b[1;32m--> 106\u001b[1;33m                      msg_dtype if msg_dtype is not None else X.dtype)\n\u001b[0m\u001b[0;32m    107\u001b[0m             )\n\u001b[0;32m    108\u001b[0m     \u001b[1;31m# for object dtype data, we only check for NaNs (GH-13254)\u001b[0m\u001b[1;33m\u001b[0m\u001b[1;33m\u001b[0m\u001b[1;33m\u001b[0m\u001b[0m\n",
      "\u001b[1;31mValueError\u001b[0m: Input contains NaN, infinity or a value too large for dtype('float64')."
     ]
    }
   ],
   "metadata": {}
  },
  {
   "cell_type": "code",
   "execution_count": 45,
   "source": [
    "all_stats_df = all_stats_df.dropna(subset=[\"MIN\", \"PTS\", \"REB\", \"AST\"])"
   ],
   "outputs": [],
   "metadata": {}
  },
  {
   "cell_type": "code",
   "execution_count": null,
   "source": [],
   "outputs": [],
   "metadata": {}
  },
  {
   "cell_type": "code",
   "execution_count": 46,
   "source": [
    "from sklearn.preprocessing import Normalizer\r\n",
    "normalizer = Normalizer().fit(all_stats_df.loc[:, [\"MIN\", \"PTS\", \"REB\", \"AST\"]])\r\n",
    "normalizer.transform(all_stats_df.loc[:, [\"MIN\", \"PTS\", \"REB\", \"AST\"]])"
   ],
   "outputs": [
    {
     "output_type": "execute_result",
     "data": {
      "text/plain": [
       "array([[0.83909468, 0.51965381, 0.1507221 , 0.05623959],\n",
       "       [0.89442719, 0.4472136 , 0.        , 0.        ],\n",
       "       [0.91160016, 0.36358619, 0.18442778, 0.05269365],\n",
       "       ...,\n",
       "       [0.85555351, 0.42777675, 0.27567835, 0.0950615 ],\n",
       "       [0.85062197, 0.49619615, 0.0974671 , 0.14398549],\n",
       "       [0.88274161, 0.43458049, 0.17654832, 0.02716128]])"
      ]
     },
     "metadata": {},
     "execution_count": 46
    }
   ],
   "metadata": {}
  },
  {
   "cell_type": "code",
   "execution_count": 47,
   "source": [
    "from sklearn.preprocessing import Normalizer\r\n",
    "normalizer = Normalizer().fit(all_stats_df.loc[:, [\"MIN\", \"PTS\", \"REB\", \"AST\"]])\r\n",
    "normalizer.transform(all_stats_df.loc[:, [\"MIN\", \"PTS\", \"REB\", \"AST\"]])"
   ],
   "outputs": [
    {
     "output_type": "execute_result",
     "data": {
      "text/plain": [
       "array([[0.83909468, 0.51965381, 0.1507221 , 0.05623959],\n",
       "       [0.89442719, 0.4472136 , 0.        , 0.        ],\n",
       "       [0.91160016, 0.36358619, 0.18442778, 0.05269365],\n",
       "       ...,\n",
       "       [0.85555351, 0.42777675, 0.27567835, 0.0950615 ],\n",
       "       [0.85062197, 0.49619615, 0.0974671 , 0.14398549],\n",
       "       [0.88274161, 0.43458049, 0.17654832, 0.02716128]])"
      ]
     },
     "metadata": {},
     "execution_count": 47
    }
   ],
   "metadata": {}
  },
  {
   "cell_type": "code",
   "execution_count": 58,
   "source": [
    "columns = [\"MIN\", \"PTS\", \"REB\", \"AST\"]\r\n",
    "# normalize\r\n",
    "normalized_df = Normalizer().fit_transform(all_stats_df.loc[:, columns])\r\n",
    "normalized_df = pd.DataFrame(normalized_df, columns=columns)\r\n",
    "normalized_df"
   ],
   "outputs": [
    {
     "output_type": "execute_result",
     "data": {
      "text/plain": [
       "          MIN       PTS       REB       AST\n",
       "0    0.839095  0.519654  0.150722  0.056240\n",
       "1    0.894427  0.447214  0.000000  0.000000\n",
       "2    0.911600  0.363586  0.184428  0.052694\n",
       "3    0.941204  0.288003  0.169239  0.050475\n",
       "4    0.929981  0.000000  0.348743  0.116248\n",
       "..        ...       ...       ...       ...\n",
       "248  0.910440  0.374153  0.124718  0.124718\n",
       "249  0.930756  0.350544  0.084614  0.060439\n",
       "250  0.855554  0.427777  0.275678  0.095062\n",
       "251  0.850622  0.496196  0.097467  0.143985\n",
       "252  0.882742  0.434580  0.176548  0.027161\n",
       "\n",
       "[253 rows x 4 columns]"
      ],
      "text/html": [
       "<div>\n",
       "<style scoped>\n",
       "    .dataframe tbody tr th:only-of-type {\n",
       "        vertical-align: middle;\n",
       "    }\n",
       "\n",
       "    .dataframe tbody tr th {\n",
       "        vertical-align: top;\n",
       "    }\n",
       "\n",
       "    .dataframe thead th {\n",
       "        text-align: right;\n",
       "    }\n",
       "</style>\n",
       "<table border=\"1\" class=\"dataframe\">\n",
       "  <thead>\n",
       "    <tr style=\"text-align: right;\">\n",
       "      <th></th>\n",
       "      <th>MIN</th>\n",
       "      <th>PTS</th>\n",
       "      <th>REB</th>\n",
       "      <th>AST</th>\n",
       "    </tr>\n",
       "  </thead>\n",
       "  <tbody>\n",
       "    <tr>\n",
       "      <th>0</th>\n",
       "      <td>0.839095</td>\n",
       "      <td>0.519654</td>\n",
       "      <td>0.150722</td>\n",
       "      <td>0.056240</td>\n",
       "    </tr>\n",
       "    <tr>\n",
       "      <th>1</th>\n",
       "      <td>0.894427</td>\n",
       "      <td>0.447214</td>\n",
       "      <td>0.000000</td>\n",
       "      <td>0.000000</td>\n",
       "    </tr>\n",
       "    <tr>\n",
       "      <th>2</th>\n",
       "      <td>0.911600</td>\n",
       "      <td>0.363586</td>\n",
       "      <td>0.184428</td>\n",
       "      <td>0.052694</td>\n",
       "    </tr>\n",
       "    <tr>\n",
       "      <th>3</th>\n",
       "      <td>0.941204</td>\n",
       "      <td>0.288003</td>\n",
       "      <td>0.169239</td>\n",
       "      <td>0.050475</td>\n",
       "    </tr>\n",
       "    <tr>\n",
       "      <th>4</th>\n",
       "      <td>0.929981</td>\n",
       "      <td>0.000000</td>\n",
       "      <td>0.348743</td>\n",
       "      <td>0.116248</td>\n",
       "    </tr>\n",
       "    <tr>\n",
       "      <th>...</th>\n",
       "      <td>...</td>\n",
       "      <td>...</td>\n",
       "      <td>...</td>\n",
       "      <td>...</td>\n",
       "    </tr>\n",
       "    <tr>\n",
       "      <th>248</th>\n",
       "      <td>0.910440</td>\n",
       "      <td>0.374153</td>\n",
       "      <td>0.124718</td>\n",
       "      <td>0.124718</td>\n",
       "    </tr>\n",
       "    <tr>\n",
       "      <th>249</th>\n",
       "      <td>0.930756</td>\n",
       "      <td>0.350544</td>\n",
       "      <td>0.084614</td>\n",
       "      <td>0.060439</td>\n",
       "    </tr>\n",
       "    <tr>\n",
       "      <th>250</th>\n",
       "      <td>0.855554</td>\n",
       "      <td>0.427777</td>\n",
       "      <td>0.275678</td>\n",
       "      <td>0.095062</td>\n",
       "    </tr>\n",
       "    <tr>\n",
       "      <th>251</th>\n",
       "      <td>0.850622</td>\n",
       "      <td>0.496196</td>\n",
       "      <td>0.097467</td>\n",
       "      <td>0.143985</td>\n",
       "    </tr>\n",
       "    <tr>\n",
       "      <th>252</th>\n",
       "      <td>0.882742</td>\n",
       "      <td>0.434580</td>\n",
       "      <td>0.176548</td>\n",
       "      <td>0.027161</td>\n",
       "    </tr>\n",
       "  </tbody>\n",
       "</table>\n",
       "<p>253 rows × 4 columns</p>\n",
       "</div>"
      ]
     },
     "metadata": {},
     "execution_count": 58
    }
   ],
   "metadata": {}
  },
  {
   "cell_type": "code",
   "execution_count": 66,
   "source": [
    "scale = (normalized_df.max() - normalized_df.min())/100\r\n",
    "metric = 100 * ((normalized_df[\"PTS\"] + scale[\"PTS\"] ) * (normalized_df[\"MIN\"] + scale[\"MIN\"]) * (normalized_df[\"REB\"] + scale[\"REB\"]) * (normalized_df[\"AST\"] + scale[\"AST\"]))"
   ],
   "outputs": [],
   "metadata": {}
  },
  {
   "cell_type": "code",
   "execution_count": 85,
   "source": [
    "all_stats_df[\"metric\"] = metric.values * 100\r\n",
    "all_stats_df.loc[:, \"metric\"]"
   ],
   "outputs": [
    {
     "output_type": "execute_result",
     "data": {
      "text/plain": [
       "Carmelo Anthony       41.974824\n",
       "Keljin Blevins         0.097014\n",
       "Zach Collins          36.662554\n",
       "Robert Covington      26.674665\n",
       "CJ Elleby              3.560489\n",
       "                        ...    \n",
       "Theo Pinson           59.221695\n",
       "Immanuel Quickley     19.682554\n",
       "Julius Randle        104.631097\n",
       "Derrick Rose          66.607128\n",
       "Obi Toppin            22.066242\n",
       "Name: metric, Length: 253, dtype: float64"
      ]
     },
     "metadata": {},
     "execution_count": 85
    }
   ],
   "metadata": {}
  },
  {
   "cell_type": "code",
   "execution_count": 80,
   "source": [
    "pd.Series(metric.values, index=all_stats_df.index, name=\"metric\")"
   ],
   "outputs": [
    {
     "output_type": "execute_result",
     "data": {
      "text/plain": [
       "Carmelo Anthony      0.419748\n",
       "Keljin Blevins       0.000970\n",
       "Zach Collins         0.366626\n",
       "Robert Covington     0.266747\n",
       "CJ Elleby            0.035605\n",
       "                       ...   \n",
       "Theo Pinson          0.592217\n",
       "Immanuel Quickley    0.196826\n",
       "Julius Randle        1.046311\n",
       "Derrick Rose         0.666071\n",
       "Obi Toppin           0.220662\n",
       "Name: metric, Length: 253, dtype: float64"
      ]
     },
     "metadata": {},
     "execution_count": 80
    }
   ],
   "metadata": {}
  },
  {
   "cell_type": "code",
   "execution_count": 79,
   "source": [
    "metric*100"
   ],
   "outputs": [
    {
     "output_type": "execute_result",
     "data": {
      "text/plain": [
       "0       41.974824\n",
       "1        0.097014\n",
       "2       36.662554\n",
       "3       26.674665\n",
       "4        3.560489\n",
       "          ...    \n",
       "248     59.221695\n",
       "249     19.682554\n",
       "250    104.631097\n",
       "251     66.607128\n",
       "252     22.066242\n",
       "Name: metric, Length: 253, dtype: float64"
      ]
     },
     "metadata": {},
     "execution_count": 79
    }
   ],
   "metadata": {}
  }
 ],
 "metadata": {
  "kernelspec": {
   "name": "python3",
   "display_name": "Python 3.7.8 64-bit ('venv': venv)"
  },
  "language_info": {
   "codemirror_mode": {
    "name": "ipython",
    "version": 3
   },
   "file_extension": ".py",
   "mimetype": "text/x-python",
   "name": "python",
   "nbconvert_exporter": "python",
   "pygments_lexer": "ipython3",
   "version": "3.7.8"
  },
  "interpreter": {
   "hash": "9202409516ace37cbfab04571c8e861df26d82b10250951d4bcf7b61eec5379c"
  }
 },
 "nbformat": 4,
 "nbformat_minor": 2
}